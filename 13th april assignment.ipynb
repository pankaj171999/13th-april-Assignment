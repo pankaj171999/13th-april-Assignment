{
 "cells": [
  {
   "cell_type": "code",
   "execution_count": null,
   "id": "bd9b011c-c0e2-4352-a685-c023cd0d8118",
   "metadata": {},
   "outputs": [],
   "source": [
    "Q1(Ans)A Random Forest Algorithm is a supervised machine learning algorithm that is extremely popular and is used \n",
    "for Classification and Regression problems in Machine Learning."
   ]
  },
  {
   "cell_type": "code",
   "execution_count": null,
   "id": "13472abb-6d0a-45a4-838d-52004428c0d5",
   "metadata": {},
   "outputs": [],
   "source": [
    "Q2(Ans)One straightforward solution to overfitting in random forests is to reduce the number of trees. \n",
    "You can experiment with different numbers of trees and choose the one that gives the best performance on the test data. \n",
    "Generally, a smaller number of trees can help reduce overfitting"
   ]
  },
  {
   "cell_type": "code",
   "execution_count": null,
   "id": "ab5242a1-b712-44df-bd69-66f6851ce16f",
   "metadata": {},
   "outputs": [],
   "source": [
    "Q3(Ans)\n",
    "A number of decision trees are used on distinct subsets of the same dataset, and the average is used to improve the dataset projected accuracy. \n",
    "The random forest collects the data of each tree and forecasts the future based on the majority of predictions, \n",
    "rather than relying on a single decision tree."
   ]
  },
  {
   "cell_type": "code",
   "execution_count": null,
   "id": "70b592a8-a2f8-4b36-8cdb-8f9e04040139",
   "metadata": {},
   "outputs": [],
   "source": [
    "Q4(Ans)There are various hyperparameters that can be controlled in a random forest: N_estimators: \n",
    "The number of decision trees being built in the forest. Default values in sklearn are 100.\n",
    "N_estimators are mostly correlated to the size of data, to encapsulate the trends in the data, more number of DTs are needed"
   ]
  },
  {
   "cell_type": "code",
   "execution_count": null,
   "id": "a9f4545a-e83c-495a-884a-3f2c42ba70ad",
   "metadata": {},
   "outputs": [],
   "source": [
    "Q5(Ans)Random forest is a ensemble learning method, which means it uses a combination of multiple models to make predictions. \n",
    "In contrast, decision tree is a single model that makes predictions based on a series of if-then rules"
   ]
  },
  {
   "cell_type": "code",
   "execution_count": null,
   "id": "0950df12-9ccb-42bd-9990-53d3aff5abf1",
   "metadata": {},
   "outputs": [],
   "source": [
    "Q6(Ans) Advantages of Random forest Regression are\n",
    "\n",
    "* It can perform both regression and classification tasks. \n",
    "* A random forest produces good predictions that can be understood easily. \n",
    "* It can handle large datasets efficiently. \n",
    "* The random forest algorithm provides a higher level of accuracy in predicting outcomes over the decision tree algorithm\n",
    "\n",
    "Disadvantages of Random forest Regression are\n",
    "The main limitation of random forest is that a large number of trees can make the algorithm too slow and ineffective for real-time predictions. \n",
    "In general, these algorithms are fast to train, but quite slow to create predictions once they are trained\n"
   ]
  },
  {
   "cell_type": "code",
   "execution_count": null,
   "id": "c2ccd6f1-87bb-4f4f-bc83-6db562a36b89",
   "metadata": {},
   "outputs": [],
   "source": [
    "Q7(Ans) Random forest is a type of supervised learning algorithm that uses ensemble methods (bagging) to solve \n",
    "both regression and classification problems. The algorithm operates by constructing a multitude of decision trees at training time \n",
    "and outputting the mean/mode of prediction of the individual trees"
   ]
  },
  {
   "cell_type": "code",
   "execution_count": null,
   "id": "b1e86a90-7786-45dc-9180-77f2fe66a850",
   "metadata": {},
   "outputs": [],
   "source": [
    "Q8(Ans)Random forest is a Supervised Machine Learning Algorithm that is used widely in Classification and Regression problems. \n",
    "It builds decision trees on different samples and takes their majority vote for classification and average in case of regression."
   ]
  },
  {
   "cell_type": "code",
   "execution_count": null,
   "id": "68a61dda-4244-427b-ad6d-6e8eb4fe481b",
   "metadata": {},
   "outputs": [],
   "source": []
  },
  {
   "cell_type": "code",
   "execution_count": null,
   "id": "12f015ed-f2e4-4fbc-8579-7acda3f72204",
   "metadata": {},
   "outputs": [],
   "source": []
  },
  {
   "cell_type": "code",
   "execution_count": null,
   "id": "16417793-7524-479a-9feb-d6f991c7e3df",
   "metadata": {},
   "outputs": [],
   "source": []
  },
  {
   "cell_type": "code",
   "execution_count": null,
   "id": "9253945a-d7b7-4cce-8563-a49a8aaaddb6",
   "metadata": {},
   "outputs": [],
   "source": []
  }
 ],
 "metadata": {
  "kernelspec": {
   "display_name": "Python 3 (ipykernel)",
   "language": "python",
   "name": "python3"
  },
  "language_info": {
   "codemirror_mode": {
    "name": "ipython",
    "version": 3
   },
   "file_extension": ".py",
   "mimetype": "text/x-python",
   "name": "python",
   "nbconvert_exporter": "python",
   "pygments_lexer": "ipython3",
   "version": "3.10.8"
  }
 },
 "nbformat": 4,
 "nbformat_minor": 5
}
